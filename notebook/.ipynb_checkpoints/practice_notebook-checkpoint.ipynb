{
 "cells": [
  {
   "cell_type": "markdown",
   "metadata": {},
   "source": [
    "<img src='https://weclouddata.com/wp-content/uploads/2016/11/logo.png' width='30%'>\n",
    "-------------\n",
    "\n",
    "<h3 align='center'> Machine Learning Hands-on Workshop </h2>\n",
    "<h1 align='center'> Home Credit Default Risk Kaggle Competition </h1>\n",
    "\n",
    "<br>\n",
    "<center align=\"left\"> <h4>Presentened by:</h4> </center>\n",
    "<center align=\"left\"> <h4>Vanessa Feng, WeCloudData Academy</h4> </center>\n",
    "\n",
    "----------\n",
    "\n",
    "[Home Credit Default Risk Kaggle Competition](https://www.kaggle.com/c/home-credit-default-risk) Can you predict how capable each applicant is of repaying a loan?"
   ]
  },
  {
   "cell_type": "markdown",
   "metadata": {},
   "source": [
    "# Content:\n",
    "- [Problem analysis](#Problem-analysis)\n",
    "- [Methodologies](#Methodologies)\n",
    "    - [Building blocks of a Machine Learning algorithm](#Building-blocks-of-a-Machine-Learning-algorithm)\n",
    "    - [Attempt 1](#Attempt-1)\n",
    "        - [Data preparation](#Data-preparation)\n",
    "        - [Model training](#Model-training)\n",
    "        - [Model evaluation](#Model-evaluation)\n",
    "        - [Cross validation](#Cross-validation)\n",
    "        - [Model tuning](#Model-tuning)\n",
    "        - [Test data prediction](#Test-data-prediction)\n",
    "    - [Attempt 2](#Attempt-2)\n",
    "        - [Data preparation: multiple datasets](#Data-preparation:-multiple-datasets)"
   ]
  },
  {
   "cell_type": "markdown",
   "metadata": {},
   "source": [
    "# Problem analysis\n",
    "### Understand the problem\n",
    "Read the competition overview at https://www.kaggle.com/c/home-credit-default-risk#description.\n",
    "We are trying to predict whether each credit applicant is going to have payment difficulty or not.\n",
    "\n",
    "### Understand the data\n",
    "Read the dataset description at https://www.kaggle.com/c/home-credit-default-risk/data.\n",
    "\n",
    "<hr></hr>"
   ]
  },
  {
   "cell_type": "markdown",
   "metadata": {},
   "source": [
    "<h2><font color=\"orange\">Practice 1</font></h2>\n",
    "\n",
    "Show the first 20 rows and the data types of the other two csv files:\n",
    "- Any other two CSV files, i.e., excluding `application_train.csv` and `HomeCredit_columns_description.csv`"
   ]
  },
  {
   "cell_type": "code",
   "execution_count": null,
   "metadata": {},
   "outputs": [],
   "source": [
    "\n",
    "\n",
    "\n",
    "\n",
    "\n"
   ]
  },
  {
   "cell_type": "markdown",
   "metadata": {},
   "source": [
    "<h2><font color=\"orange\">Practice 2</font></h2>\n",
    "\n",
    "Show the gender distribution in the training and test data.\n",
    "\n",
    "- Training data: `application_train.csv`\n",
    "- Test data: `application_test.csv`"
   ]
  },
  {
   "cell_type": "code",
   "execution_count": null,
   "metadata": {},
   "outputs": [],
   "source": [
    "\n",
    "\n",
    "\n",
    "\n",
    "\n"
   ]
  },
  {
   "cell_type": "markdown",
   "metadata": {},
   "source": [
    "# Methodologies\n",
    "\n",
    "## Attempt 1\n",
    "Use one single dataset, basic feature extraction, and a single model to begin with."
   ]
  },
  {
   "cell_type": "markdown",
   "metadata": {},
   "source": [
    "### Data preparation\n",
    "<hr></hr>"
   ]
  },
  {
   "cell_type": "markdown",
   "metadata": {},
   "source": [
    "<h2><font color=\"orange\">Practice 3</font></h2>\n",
    "\n",
    "Compare the distribution of the following fields between different sampling approaches: first 10000 rows vs. randomly sampling 10000 rows.\n",
    "- gender\n",
    "- contract type"
   ]
  },
  {
   "cell_type": "code",
   "execution_count": null,
   "metadata": {},
   "outputs": [],
   "source": [
    "\n",
    "\n",
    "\n",
    "\n",
    "\n"
   ]
  },
  {
   "cell_type": "markdown",
   "metadata": {},
   "source": [
    "<h2><font color=\"orange\">Practice 4</font></h2>\n",
    "\n",
    "Randomly sample 20000 rows from the training data and run through the processing pipeline:\n",
    "+ train-validation split\n",
    "+ Use a different imputation strategy,\n",
    "+ Use a different scaler. \n",
    "\n",
    "Pick something from http://scikit-learn.org/stable/modules/classes.html#module-sklearn.preprocessing"
   ]
  },
  {
   "cell_type": "code",
   "execution_count": null,
   "metadata": {},
   "outputs": [],
   "source": [
    "\n",
    "\n",
    "\n",
    "\n",
    "\n",
    "\n"
   ]
  },
  {
   "cell_type": "markdown",
   "metadata": {},
   "source": [
    "### Model training and evaluation"
   ]
  },
  {
   "cell_type": "markdown",
   "metadata": {},
   "source": [
    "<h2><font color=\"orange\">Practice 5</font></h2>\n",
    "\n",
    "- Pick a different model from http://scikit-learn.org/stable/supervised_learning.html#supervised-learning to train. For example, `DecisionTree`, `RandomForest`, or `GradientTreeBoosting`.\n",
    "- Evaluate your newly trained model."
   ]
  },
  {
   "cell_type": "code",
   "execution_count": null,
   "metadata": {},
   "outputs": [],
   "source": [
    "\n",
    "\n",
    "\n",
    "\n",
    "\n",
    "\n"
   ]
  },
  {
   "cell_type": "markdown",
   "metadata": {},
   "source": [
    "### Cross validation\n",
    "\n",
    "To get a more reliable performance evaluation of your model, you need to repeat the above random train-test split multiple times and average the performance across different splits. This is called **cross-validation**.\n",
    "\n",
    "The convention is to perform 5-fold or 10-fold cross-validation.\n",
    "\n",
    "<hr></hr>"
   ]
  },
  {
   "cell_type": "markdown",
   "metadata": {},
   "source": [
    "<h2><font color=\"orange\">Practice 6 (offline)</font></h2>\n",
    "\n",
    "Perform 5-fold cross-validation on your model: run the train-val procedure 5 times across different split.\n",
    "\n",
    "<hr></hr>"
   ]
  },
  {
   "cell_type": "markdown",
   "metadata": {},
   "source": [
    "**Do we need more samples?**\n",
    "\n",
    "Previously, we just sampled 10000 samples from the entire `application_train.csv` dataset, and there's a chance we didn't have enough data to train the model.\n",
    "\n",
    "<h2><font color=\"orange\">Practice 7 (offline)</font></h2>\n",
    "\n",
    "See how more training data will affect the overall performance. Plot the learning curve.\n",
    "\n",
    "<hr></hr>"
   ]
  },
  {
   "cell_type": "markdown",
   "metadata": {},
   "source": [
    "### Model tuning\n",
    "\n",
    "- **Hyper-parameter tuning**: pick a model and try different model hyper-parameters and pick the set of parameters with the best validation score\n",
    "  \n",
    "  **Example**: http://scikit-learn.org/stable/auto_examples/model_selection/plot_randomized_search.html#sphx-glr-auto-examples-model-selection-plot-randomized-search-py\n",
    "  \n",
    "- Try different models\n",
    "\n",
    "<h2><font color=\"orange\">Practice 8 (offline)</font></h2>\n",
    "\n",
    "Use Sklearn's randomized cross validation to find the best hyper-parameter setting for your chosen model.\n",
    "\n",
    "<hr></hr>"
   ]
  },
  {
   "cell_type": "markdown",
   "metadata": {},
   "source": [
    "## Attempt2\n",
    "\n",
    "<h2><font color=\"orange\">Practice 9 (offline)</font></h2>\n",
    "\n",
    "Use more information from multiple datasets to train your model and evaluate your trained model.\n",
    "\n",
    "<hr></hr>"
   ]
  },
  {
   "cell_type": "code",
   "execution_count": null,
   "metadata": {},
   "outputs": [],
   "source": [
    "\n",
    "\n",
    "\n",
    "\n",
    "\n",
    "\n"
   ]
  }
 ],
 "metadata": {
  "kernelspec": {
   "display_name": "Python 3",
   "language": "python",
   "name": "python3"
  },
  "language_info": {
   "codemirror_mode": {
    "name": "ipython",
    "version": 3
   },
   "file_extension": ".py",
   "mimetype": "text/x-python",
   "name": "python",
   "nbconvert_exporter": "python",
   "pygments_lexer": "ipython3",
   "version": "3.6.4"
  }
 },
 "nbformat": 4,
 "nbformat_minor": 2
}
