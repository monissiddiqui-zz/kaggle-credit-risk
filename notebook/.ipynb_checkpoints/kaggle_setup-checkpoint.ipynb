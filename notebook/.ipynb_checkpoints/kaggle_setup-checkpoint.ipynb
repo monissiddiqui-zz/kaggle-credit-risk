{
 "cells": [
  {
   "cell_type": "markdown",
   "metadata": {},
   "source": [
    "<img src='https://weclouddata.com/wp-content/uploads/2016/11/logo.png' width='30%'>\n",
    "-------------\n",
    "\n",
    "<h3 align='center'> Machine Learning Hands-on Workshop </h2>\n",
    "<h1 align='center'> Home Credit Default Risk Kaggle Competition </h1>\n",
    "\n",
    "<br>\n",
    "<center align=\"left\"> <h4>Presentened by:</h4> </center>\n",
    "<center align=\"left\"> <h4>Vanessa Feng, WeCloudData Academy</h4> </center>\n",
    "\n",
    "----------\n",
    "\n",
    "[Home Credit Default Risk Kaggle Competition](https://www.kaggle.com/c/home-credit-default-risk) Can you predict how capable each applicant is of repaying a loan?"
   ]
  },
  {
   "cell_type": "markdown",
   "metadata": {},
   "source": [
    "# Content:\n",
    "\n",
    "- [Setup Python environment](#Setup-Python-environment)\n",
    "- [Setup Kaggle environment](#Setup-Kaggle-environment)\n",
    "- [Data preparation](#Data-preparation)"
   ]
  },
  {
   "cell_type": "markdown",
   "metadata": {},
   "source": [
    "# Setup Python environment:\n",
    "\n",
    "## Install Python\n",
    "- [Download and install Python for your system](https://www.python.org/downloads)\n",
    "  + Python 3.6 is recommended\n",
    "  + Python 2.7 also works\n",
    "- Check your Python version:\n",
    "  + `>> python --version`:\n",
    "  + If you get something like `Python 2.x` but you do have `Python 3.x` installed, you will have to replace `python` with `python3` for some of commands below.\n",
    "\n",
    "## Install pip\n",
    "- This step is necessary only if your Python 2 version is <2.7.9 or your Python 3 is <3.4.\n",
    "- [pip](https://pip.pypa.io/en/stable/installing) is a Python package management system, which makes installing Python packages very simple.\n",
    "- Make sure your are using the correct pip version, if you have multiple Python versions installed:\n",
    "  + `>> pip --version`:\n",
    "  + If you intend to use pip with your installed Python 3.x, you will have to use `pip3` instead of `pip` for some of the commands below.\n",
    "\n",
    "## Install virtual environment (recommended)\n",
    "\n",
    "- This step is optional but generally recommended in practice, as `virtualenv` is a good way to separate your local Python environment with system-wise ones, or allow having different Python package versions for different projects. This part requires you having admin permission:\n",
    "- [virtualenv](https://virtualenv.pypa.io/en/stable/installation/) (optional): you can install `virtualenv` by:\n",
    "    - `>> [sudo] pip install virtualenv`, or \n",
    "    - `>> [sudo] pip3 install virtualenv`\n",
    "- Create a new virtual environment:\n",
    "    - `>> virtualenv wcd_venv`, or \n",
    "    - `>> virtualenv -p python3 wcd_venv` if using Python3.\n",
    "- Verify your new virtual environment:\n",
    "  - `>> source wcd_venv/bin/activate`\n",
    "  - You should see something like `(wcd_venv)Your-Computer:your_project UserName` as your command prompt.\n",
    "  \n",
    "## Install Python packages\n",
    "\n",
    "- Activate installed virual environment if you follow the step above:\n",
    "  `>> source wcd_venv/bin/activate`\n",
    "- We will use `pip` to install the following packages. If you activated the virtual environment, any packages installed via `pip` will be installed to the activated virtual environment, and thus provide better separation from any other python environment in your system.\n",
    "    - [NumPy](http://www.numpy.org/): a fundamental package for scientific computing with Python.\n",
    "    - [SciPy](https://www.scipy.org/): a Python-based ecosystem of open-source software for mathematics, science, and engineering.\n",
    "    - [Sklearn](http://scikit-learn.org/stable/): Machine Learning tools in Python.\n",
    "    - [Pandas](https://pandas.pydata.org/): pandas is an open source, BSD-licensed library providing high-performance, easy-to-use data structures and data analysis tools\n",
    "    - [Jupyter](http://jupyter.org/): an open-source web application that allows you to create and share documents that contain live code, equations, visualizations and narrative text. \n",
    "\n",
    "- To install all useful packages: `>> pip install numpy scipy matplotlib ipython jupyter pandas sklearn`\n",
    "- Verify your installation:\n",
    "    - `>> python -c \"import numpy; print(numpy.version.version)\"`\n",
    "    - You should see the version number of your newly installed `numpy` package printed out on the screen.\n",
    "\n",
    "If you ran into any issue, you can look at this article for more information regarding installing Python packages: https://packaging.python.org/tutorials/installing-packages/"
   ]
  },
  {
   "cell_type": "markdown",
   "metadata": {},
   "source": [
    "# Setup Kaggle environment\n",
    "- Sign up for a Kaggle account at https://www.kaggle.com.\n",
    "- Install `kaggle` package:\n",
    "  `>> pip install kaggle`\n",
    "- Get API key: \n",
    "    - Go to the 'Account' tab of your user profile (https://www.kaggle.com/<username>/account) and select 'Create API Token'. This will trigger the download of `kaggle.json`, a file containing your API credentials. Place this file in the location `~/.kaggle/kaggle.json` (on Windows in the location `C:\\Users\\<Windows-username>\\.kaggle\\kaggle.json`).\n",
    "- Verify your installed kaggle package:\n",
    "    - `>> kaggle competitions list`\n",
    "    - You should see a table of current open competitions printed out on the screen.\n",
    "\n",
    "- For more information regarding Kaggle official APIs, see https://github.com/Kaggle/kaggle-api"
   ]
  },
  {
   "cell_type": "markdown",
   "metadata": {},
   "source": [
    "# Data preparation\n",
    "\n",
    "- Sign up for the [Home Credit Default Risk Kaggle Competition] at https://www.kaggle.com/c/home-credit-default-risk.\n",
    "- Follow the instruction to download its dataset:\n",
    "  + Run `>> kaggle competitions download -c home-credit-default-risk`\n",
    "  + By default, the dataset will be downloaded to the folder `~/.kaggle` (on Windows, the folder is `C:\\Users\\<Windows-username>\\.kaggle`)\n",
    "  + You can change the download destination folder by using the `-p PATH` option or `-w` to download to the current working directory.\n",
    "  + Use `>> kaggle dataset download --help` to see the complete list of options for the `download` command.\n",
    "- Unzip the downloaded CSV files: `>> unzip *.csv.zip`"
   ]
  }
 ],
 "metadata": {
  "kernelspec": {
   "display_name": "Python 3",
   "language": "python",
   "name": "python3"
  },
  "language_info": {
   "codemirror_mode": {
    "name": "ipython",
    "version": 3
   },
   "file_extension": ".py",
   "mimetype": "text/x-python",
   "name": "python",
   "nbconvert_exporter": "python",
   "pygments_lexer": "ipython3",
   "version": "3.5.2"
  }
 },
 "nbformat": 4,
 "nbformat_minor": 2
}
